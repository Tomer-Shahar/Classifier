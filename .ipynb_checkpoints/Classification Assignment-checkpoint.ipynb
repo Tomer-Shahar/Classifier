{
 "cells": [
  {
   "cell_type": "code",
   "execution_count": null,
   "metadata": {},
   "outputs": [],
   "source": [
    "%matplotlib inline"
   ]
  },
  {
   "cell_type": "markdown",
   "metadata": {},
   "source": [
    "# Document Classification Assignment"
   ]
  },
  {
   "cell_type": "markdown",
   "metadata": {},
   "source": [
    "This assignment consists of two parts, the first being a document pre-processor class that collects data from a given corpus and also cleans the data. The second part is a document classifier, classifying a given test set into one/multiple types out of 23 possible options."
   ]
  },
  {
   "cell_type": "markdown",
   "metadata": {},
   "source": [
    "## Submitted by: Shakey Eyal 201605870 && Tomer Shahar 302223979"
   ]
  },
  {
   "cell_type": "markdown",
   "metadata": {},
   "source": [
    "## Part 1:"
   ]
  },
  {
   "cell_type": "markdown",
   "metadata": {},
   "source": [
    "The main function. Here you can set the location of the corpus folder. You can also set the location of the output folder.\n",
    "The PreProcessor object will process the files in the given path. Note that it will first process the TRAINING set and only then\n",
    "the TEST set."
   ]
  },
  {
   "cell_type": "code",
   "execution_count": null,
   "metadata": {},
   "outputs": [
    {
     "name": "stdout",
     "output_type": "stream",
     "text": [
      "---------- Number of categories: 23 ----------\n",
      "\n",
      "---------- Number of Documents per Category ----------\n",
      "                                                    Number of Documents\n",
      "Bacterial Infections and Mycoses                                    423\n",
      "Virus Diseases                                                      158\n",
      "Parasitic Diseases                                                   65\n",
      "Neoplasms                                                          1163\n",
      "Musculoskeletal Diseases                                            283\n",
      "Digestive System Diseases                                           588\n",
      "Stomatognathic Diseases                                             100\n",
      "Respiratory Tract Diseases                                          473\n",
      "Otorhinolaryngologic Diseases                                       125\n",
      "Nervous System Diseases                                             621\n",
      "Eye Diseases                                                        162\n",
      "Urologic and Male Genital Diseases                                  491\n",
      "Female Genital Diseases and Pregnancy Complicat...                  281\n",
      "Cardiovascular Diseases                                            1249\n",
      "Hemic and Lymphatic Diseases                                        215\n",
      "Neonatal Diseases and Abnormalities                                 200\n",
      "Skin and Connective Tissue Diseases                                 295\n",
      "Nutritional and Metabolic Diseases                                  388\n",
      "Endocrine Diseases                                                  191\n",
      "Immunologic Diseases                                                525\n",
      "Disorders of Environmental Origin                                   546\n",
      "Animal Diseases                                                      92\n",
      "Pathological Conditions, Signs and Symptoms                        1799\n",
      "\n",
      "\n",
      "---------- Top 10 Words Per Category ----------\n",
      "                                                                 1   \\\n",
      "Bacterial Infections and Mycoses                     (patient, 973)   \n",
      "Virus Diseases                                       (patient, 286)   \n",
      "Parasitic Diseases                                   (patient, 111)   \n",
      "Neoplasms                                           (patient, 2882)   \n",
      "Musculoskeletal Diseases                             (patient, 584)   \n",
      "Digestive System Diseases                           (patient, 1883)   \n",
      "Stomatognathic Diseases                              (patient, 151)   \n",
      "Respiratory Tract Diseases                          (patient, 1171)   \n",
      "Otorhinolaryngologic Diseases                        (patient, 229)   \n",
      "Nervous System Diseases                             (patient, 1529)   \n",
      "Eye Diseases                                         (patient, 314)   \n",
      "Urologic and Male Genital Diseases                  (patient, 1315)   \n",
      "Female Genital Diseases and Pregnancy Complicat...   (patient, 410)   \n",
      "Cardiovascular Diseases                             (patient, 3828)   \n",
      "Hemic and Lymphatic Diseases                         (patient, 608)   \n",
      "Neonatal Diseases and Abnormalities                  (patient, 467)   \n",
      "Skin and Connective Tissue Diseases                  (patient, 615)   \n",
      "Nutritional and Metabolic Diseases                   (patient, 739)   \n",
      "Endocrine Diseases                                   (patient, 567)   \n",
      "Immunologic Diseases                                (patient, 1274)   \n",
      "Disorders of Environmental Origin                   (patient, 1080)   \n",
      "Animal Diseases                                        (model, 115)   \n",
      "Pathological Conditions, Signs and Symptoms         (patient, 4876)   \n",
      "\n",
      "                                                                 2   \\\n",
      "Bacterial Infections and Mycoses                      (infect, 633)   \n",
      "Virus Diseases                                        (infect, 274)   \n",
      "Parasitic Diseases                                     (infect, 92)   \n",
      "Neoplasms                                              (cell, 1612)   \n",
      "Musculoskeletal Diseases                                (bone, 214)   \n",
      "Digestive System Diseases                             (diseas, 538)   \n",
      "Stomatognathic Diseases                                  (cell, 63)   \n",
      "Respiratory Tract Diseases                              (lung, 465)   \n",
      "Otorhinolaryngologic Diseases                             (ear, 81)   \n",
      "Nervous System Diseases                                (studi, 396)   \n",
      "Eye Diseases                                             (eye, 176)   \n",
      "Urologic and Male Genital Diseases                     (renal, 569)   \n",
      "Female Genital Diseases and Pregnancy Complicat...  (pregnanc, 321)   \n",
      "Cardiovascular Diseases                              (arteri, 1272)   \n",
      "Hemic and Lymphatic Diseases                            (cell, 242)   \n",
      "Neonatal Diseases and Abnormalities                    (group, 142)   \n",
      "Skin and Connective Tissue Diseases                     (cell, 242)   \n",
      "Nutritional and Metabolic Diseases                    (diabet, 716)   \n",
      "Endocrine Diseases                                    (diabet, 264)   \n",
      "Immunologic Diseases                                  (infect, 600)   \n",
      "Disorders of Environmental Origin                     (injuri, 589)   \n",
      "Animal Diseases                                          (rat, 114)   \n",
      "Pathological Conditions, Signs and Symptoms           (group, 1207)   \n",
      "\n",
      "                                                                  3   \\\n",
      "Bacterial Infections and Mycoses                    (treatment, 265)   \n",
      "Virus Diseases                                          (virus, 195)   \n",
      "Parasitic Diseases                                      (diseas, 46)   \n",
      "Neoplasms                                              (tumor, 1445)   \n",
      "Musculoskeletal Diseases                                (studi, 158)   \n",
      "Digestive System Diseases                               (studi, 404)   \n",
      "Stomatognathic Diseases                              (periodont, 59)   \n",
      "Respiratory Tract Diseases                          (pulmonari, 420)   \n",
      "Otorhinolaryngologic Diseases                              (use, 75)   \n",
      "Nervous System Diseases                                 (group, 371)   \n",
      "Eye Diseases                                            (retin, 132)   \n",
      "Urologic and Male Genital Diseases                      (studi, 304)   \n",
      "Female Genital Diseases and Pregnancy Complicat...      (women, 316)   \n",
      "Cardiovascular Diseases                                (group, 1096)   \n",
      "Hemic and Lymphatic Diseases                           (diseas, 161)   \n",
      "Neonatal Diseases and Abnormalities                     (studi, 141)   \n",
      "Skin and Connective Tissue Diseases                    (diseas, 222)   \n",
      "Nutritional and Metabolic Diseases                     (glucos, 405)   \n",
      "Endocrine Diseases                                      (level, 155)   \n",
      "Immunologic Diseases                                     (cell, 552)   \n",
      "Disorders of Environmental Origin                         (use, 375)   \n",
      "Animal Diseases                                          (studi, 99)   \n",
      "Pathological Conditions, Signs and Symptoms            (studi, 1042)   \n",
      "\n",
      "                                                                  4   \\\n",
      "Bacterial Infections and Mycoses                        (group, 257)   \n",
      "Virus Diseases                                          (human, 139)   \n",
      "Parasitic Diseases                                     (parasit, 44)   \n",
      "Neoplasms                                             (cancer, 1000)   \n",
      "Musculoskeletal Diseases                                  (use, 146)   \n",
      "Digestive System Diseases                               (group, 322)   \n",
      "Stomatognathic Diseases                              (treatment, 57)   \n",
      "Respiratory Tract Diseases                              (group, 314)   \n",
      "Otorhinolaryngologic Diseases                             (case, 69)   \n",
      "Nervous System Diseases                                   (use, 324)   \n",
      "Eye Diseases                                               (use, 87)   \n",
      "Urologic and Male Genital Diseases                  (treatment, 303)   \n",
      "Female Genital Diseases and Pregnancy Complicat...     (infect, 176)   \n",
      "Cardiovascular Diseases                             (coronari, 1053)   \n",
      "Hemic and Lymphatic Diseases                            (studi, 129)   \n",
      "Neonatal Diseases and Abnormalities                    (infant, 134)   \n",
      "Skin and Connective Tissue Diseases                      (skin, 218)   \n",
      "Nutritional and Metabolic Diseases                    (insulin, 398)   \n",
      "Endocrine Diseases                                    (thyroid, 148)   \n",
      "Immunologic Diseases                                   (diseas, 387)   \n",
      "Disorders of Environmental Origin                     (alcohol, 351)   \n",
      "Animal Diseases                                           (anim, 96)   \n",
      "Pathological Conditions, Signs and Symptoms              (use, 1019)   \n",
      "\n",
      "                                                                  5   \\\n",
      "Bacterial Infections and Mycoses                         (case, 243)   \n",
      "Virus Diseases                                           (cell, 113)   \n",
      "Parasitic Diseases                                       (studi, 43)   \n",
      "Neoplasms                                           (carcinoma, 902)   \n",
      "Musculoskeletal Diseases                               (result, 136)   \n",
      "Digestive System Diseases                            (signific, 321)   \n",
      "Stomatognathic Diseases                                   (case, 55)   \n",
      "Respiratory Tract Diseases                              (studi, 297)   \n",
      "Otorhinolaryngologic Diseases                            (studi, 65)   \n",
      "Nervous System Diseases                              (signific, 272)   \n",
      "Eye Diseases                                              (case, 79)   \n",
      "Urologic and Male Genital Diseases                    (prostat, 302)   \n",
      "Female Genital Diseases and Pregnancy Complicat...        (use, 171)   \n",
      "Cardiovascular Diseases                                 (less, 1039)   \n",
      "Hemic and Lymphatic Diseases                             (case, 127)   \n",
      "Neonatal Diseases and Abnormalities                    (arteri, 133)   \n",
      "Skin and Connective Tissue Diseases                     (studi, 168)   \n",
      "Nutritional and Metabolic Diseases                      (studi, 328)   \n",
      "Endocrine Diseases                                      (studi, 146)   \n",
      "Immunologic Diseases                                      (hiv, 356)   \n",
      "Disorders of Environmental Origin                       (studi, 330)   \n",
      "Animal Diseases                                          (group, 80)   \n",
      "Pathological Conditions, Signs and Symptoms              (less, 861)   \n",
      "\n",
      "                                                                     6   \\\n",
      "Bacterial Infections and Mycoses                          (diseas, 240)   \n",
      "Virus Diseases                                      (immunodefici, 101)   \n",
      "Parasitic Diseases                                           (case, 42)   \n",
      "Neoplasms                                                   (case, 700)   \n",
      "Musculoskeletal Diseases                                    (case, 127)   \n",
      "Digestive System Diseases                                   (less, 313)   \n",
      "Stomatognathic Diseases                                       (use, 47)   \n",
      "Respiratory Tract Diseases                                (diseas, 289)   \n",
      "Otorhinolaryngologic Diseases                               (group, 64)   \n",
      "Nervous System Diseases                                     (pain, 270)   \n",
      "Eye Diseases                                               (diseas, 74)   \n",
      "Urologic and Male Genital Diseases                           (use, 268)   \n",
      "Female Genital Diseases and Pregnancy Complicat...         (group, 167)   \n",
      "Cardiovascular Diseases                                       (p, 1001)   \n",
      "Hemic and Lymphatic Diseases                             (increas, 113)   \n",
      "Neonatal Diseases and Abnormalities                  (ventricular, 119)   \n",
      "Skin and Connective Tissue Diseases                       (lesion, 151)   \n",
      "Nutritional and Metabolic Diseases                         (level, 327)   \n",
      "Endocrine Diseases                                          (less, 146)   \n",
      "Immunologic Diseases                                       (studi, 345)   \n",
      "Disorders of Environmental Origin                         (result, 261)   \n",
      "Animal Diseases                                            (effect, 78)   \n",
      "Pathological Conditions, Signs and Symptoms                 (case, 829)   \n",
      "\n",
      "                                                                    7   \\\n",
      "Bacterial Infections and Mycoses                            (use, 210)   \n",
      "Virus Diseases                                            (diseas, 98)   \n",
      "Parasitic Diseases                                           (day, 33)   \n",
      "Neoplasms                                                 (studi, 695)   \n",
      "Musculoskeletal Diseases                                  (group, 119)   \n",
      "Digestive System Diseases                                     (p, 296)   \n",
      "Stomatognathic Diseases                                    (tumor, 47)   \n",
      "Respiratory Tract Diseases                                    (p, 275)   \n",
      "Otorhinolaryngologic Diseases                             (diseas, 61)   \n",
      "Nervous System Diseases                                  (diseas, 264)   \n",
      "Eye Diseases                                              (visual, 73)   \n",
      "Urologic and Male Genital Diseases                     (signific, 260)   \n",
      "Female Genital Diseases and Pregnancy Complicat...        (studi, 147)   \n",
      "Cardiovascular Diseases                             (ventricular, 897)   \n",
      "Hemic and Lymphatic Diseases                            (syndrom, 110)   \n",
      "Neonatal Diseases and Abnormalities                   (pulmonari, 110)   \n",
      "Skin and Connective Tissue Diseases                         (use, 137)   \n",
      "Nutritional and Metabolic Diseases                      (increas, 322)   \n",
      "Endocrine Diseases                                       (glucos, 135)   \n",
      "Immunologic Diseases                                      (human, 328)   \n",
      "Disorders of Environmental Origin                       (fractur, 245)   \n",
      "Animal Diseases                                            (human, 68)   \n",
      "Pathological Conditions, Signs and Symptoms            (signific, 824)   \n",
      "\n",
      "                                                                  8   \\\n",
      "Bacterial Infections and Mycoses                        (studi, 198)   \n",
      "Virus Diseases                                           (studi, 88)   \n",
      "Parasitic Diseases                                   (treatment, 33)   \n",
      "Neoplasms                                                 (use, 619)   \n",
      "Musculoskeletal Diseases                                 (year, 115)   \n",
      "Digestive System Diseases                                 (use, 277)   \n",
      "Stomatognathic Diseases                                 (diseas, 43)   \n",
      "Respiratory Tract Diseases                               (less, 264)   \n",
      "Otorhinolaryngologic Diseases                         (signific, 57)   \n",
      "Nervous System Diseases                                (result, 247)   \n",
      "Eye Diseases                                             (studi, 73)   \n",
      "Urologic and Male Genital Diseases                     (diseas, 259)   \n",
      "Female Genital Diseases and Pregnancy Complicat...   (signific, 130)   \n",
      "Cardiovascular Diseases                                 (heart, 874)   \n",
      "Hemic and Lymphatic Diseases                            (group, 107)   \n",
      "Neonatal Diseases and Abnormalities                       (use, 107)   \n",
      "Skin and Connective Tissue Diseases                 (treatment, 137)   \n",
      "Nutritional and Metabolic Diseases                       (less, 309)   \n",
      "Endocrine Diseases                                   (signific, 125)   \n",
      "Immunologic Diseases                                      (use, 309)   \n",
      "Disorders of Environmental Origin                        (case, 242)   \n",
      "Animal Diseases                                         (infect, 68)   \n",
      "Pathological Conditions, Signs and Symptoms            (diseas, 786)   \n",
      "\n",
      "                                                                     9   \\\n",
      "Bacterial Infections and Mycoses                          (clinic, 192)   \n",
      "Virus Diseases                                                (hiv, 87)   \n",
      "Parasitic Diseases                                       (antibodi, 31)   \n",
      "Neoplasms                                              (treatment, 566)   \n",
      "Musculoskeletal Diseases                               (treatment, 113)   \n",
      "Digestive System Diseases                              (treatment, 276)   \n",
      "Stomatognathic Diseases                                     (gland, 40)   \n",
      "Respiratory Tract Diseases                                   (use, 250)   \n",
      "Otorhinolaryngologic Diseases                           (treatment, 56)   \n",
      "Nervous System Diseases                                   (clinic, 245)   \n",
      "Eye Diseases                                              (develop, 63)   \n",
      "Urologic and Male Genital Diseases                          (cell, 254)   \n",
      "Female Genital Diseases and Pregnancy Complicat...        (diseas, 119)   \n",
      "Cardiovascular Diseases                                    (studi, 874)   \n",
      "Hemic and Lymphatic Diseases                                   (p, 103)   \n",
      "Neonatal Diseases and Abnormalities                       (defect, 105)   \n",
      "Skin and Connective Tissue Diseases                         (case, 121)   \n",
      "Nutritional and Metabolic Diseases                       (control, 294)   \n",
      "Endocrine Diseases                                        (diseas, 123)   \n",
      "Immunologic Diseases                                (immunodefici, 307)   \n",
      "Disorders of Environmental Origin                       (signific, 220)   \n",
      "Animal Diseases                                           (increas, 66)   \n",
      "Pathological Conditions, Signs and Symptoms                    (p, 772)   \n",
      "\n",
      "                                                                  10  \n",
      "Bacterial Infections and Mycoses                      (therapi, 178)  \n",
      "Virus Diseases                                            (case, 83)  \n",
      "Parasitic Diseases                                     (control, 28)  \n",
      "Neoplasms                                              (diseas, 549)  \n",
      "Musculoskeletal Diseases                                 (knee, 112)  \n",
      "Digestive System Diseases                             (gastric, 260)  \n",
      "Stomatognathic Diseases                                  (studi, 40)  \n",
      "Respiratory Tract Diseases                            (increas, 250)  \n",
      "Otorhinolaryngologic Diseases                            (nasal, 54)  \n",
      "Nervous System Diseases                                  (case, 243)  \n",
      "Eye Diseases                                             (group, 62)  \n",
      "Urologic and Male Genital Diseases                      (tumor, 254)  \n",
      "Female Genital Diseases and Pregnancy Complicat...  (treatment, 118)  \n",
      "Cardiovascular Diseases                              (signific, 842)  \n",
      "Hemic and Lymphatic Diseases                              (less, 94)  \n",
      "Neonatal Diseases and Abnormalities                       (age, 101)  \n",
      "Skin and Connective Tissue Diseases                       (may, 116)  \n",
      "Nutritional and Metabolic Diseases                          (p, 291)  \n",
      "Endocrine Diseases                                          (p, 119)  \n",
      "Immunologic Diseases                                    (virus, 288)  \n",
      "Disorders of Environmental Origin                      (effect, 220)  \n",
      "Animal Diseases                                       (signific, 64)  \n",
      "Pathological Conditions, Signs and Symptoms            (result, 771)  \n"
     ]
    },
    {
     "data": {
      "text/plain": [
       "<Figure size 640x480 with 1 Axes>"
      ]
     },
     "metadata": {},
     "output_type": "display_data"
    },
    {
     "data": {
      "text/plain": [
       "<Figure size 640x480 with 1 Axes>"
      ]
     },
     "metadata": {},
     "output_type": "display_data"
    },
    {
     "data": {
      "text/plain": [
       "<Figure size 640x480 with 1 Axes>"
      ]
     },
     "metadata": {},
     "output_type": "display_data"
    },
    {
     "data": {
      "text/plain": [
       "<Figure size 640x480 with 1 Axes>"
      ]
     },
     "metadata": {},
     "output_type": "display_data"
    },
    {
     "data": {
      "text/plain": [
       "<Figure size 640x480 with 1 Axes>"
      ]
     },
     "metadata": {},
     "output_type": "display_data"
    },
    {
     "data": {
      "text/plain": [
       "<Figure size 640x480 with 1 Axes>"
      ]
     },
     "metadata": {},
     "output_type": "display_data"
    },
    {
     "data": {
      "text/plain": [
       "<Figure size 640x480 with 1 Axes>"
      ]
     },
     "metadata": {},
     "output_type": "display_data"
    },
    {
     "data": {
      "text/plain": [
       "<Figure size 640x480 with 1 Axes>"
      ]
     },
     "metadata": {},
     "output_type": "display_data"
    },
    {
     "data": {
      "text/plain": [
       "<Figure size 640x480 with 1 Axes>"
      ]
     },
     "metadata": {},
     "output_type": "display_data"
    },
    {
     "data": {
      "text/plain": [
       "<Figure size 640x480 with 1 Axes>"
      ]
     },
     "metadata": {},
     "output_type": "display_data"
    },
    {
     "data": {
      "text/plain": [
       "<Figure size 640x480 with 1 Axes>"
      ]
     },
     "metadata": {},
     "output_type": "display_data"
    },
    {
     "data": {
      "text/plain": [
       "<Figure size 640x480 with 1 Axes>"
      ]
     },
     "metadata": {},
     "output_type": "display_data"
    },
    {
     "data": {
      "text/plain": [
       "<Figure size 640x480 with 1 Axes>"
      ]
     },
     "metadata": {},
     "output_type": "display_data"
    },
    {
     "data": {
      "text/plain": [
       "<Figure size 640x480 with 1 Axes>"
      ]
     },
     "metadata": {},
     "output_type": "display_data"
    },
    {
     "data": {
      "text/plain": [
       "<Figure size 640x480 with 1 Axes>"
      ]
     },
     "metadata": {},
     "output_type": "display_data"
    },
    {
     "data": {
      "text/plain": [
       "<Figure size 640x480 with 1 Axes>"
      ]
     },
     "metadata": {},
     "output_type": "display_data"
    },
    {
     "data": {
      "text/plain": [
       "<Figure size 640x480 with 1 Axes>"
      ]
     },
     "metadata": {},
     "output_type": "display_data"
    },
    {
     "data": {
      "text/plain": [
       "<Figure size 640x480 with 1 Axes>"
      ]
     },
     "metadata": {},
     "output_type": "display_data"
    },
    {
     "data": {
      "text/plain": [
       "<Figure size 640x480 with 1 Axes>"
      ]
     },
     "metadata": {},
     "output_type": "display_data"
    },
    {
     "data": {
      "text/plain": [
       "<Figure size 640x480 with 1 Axes>"
      ]
     },
     "metadata": {},
     "output_type": "display_data"
    },
    {
     "data": {
      "text/plain": [
       "<Figure size 640x480 with 1 Axes>"
      ]
     },
     "metadata": {},
     "output_type": "display_data"
    },
    {
     "data": {
      "text/plain": [
       "<Figure size 640x480 with 1 Axes>"
      ]
     },
     "metadata": {},
     "output_type": "display_data"
    },
    {
     "data": {
      "text/plain": [
       "<Figure size 640x480 with 1 Axes>"
      ]
     },
     "metadata": {},
     "output_type": "display_data"
    }
   ],
   "source": [
    "from preprocessor import PreProcessor\n",
    "import warnings\n",
    "warnings.filterwarnings('ignore')\n",
    "\n",
    "corpus_path = '.\\\\ohsumed-first-20000-docs'  # PATH TO THE CORPUS FOLDER THAT CONTAINS THE SUB-FOLDERS\n",
    "output_path = '.\\\\output'  # Output path where the statistics and parsed files will be saved\n",
    "\n",
    "prep = PreProcessor(corpus_path, output_path)\n",
    "prep.process_all_files()\n"
   ]
  },
  {
   "cell_type": "markdown",
   "metadata": {},
   "source": [
    "### It is also possible to just load the statistics by reading from the existing statistics file:\n",
    "#### (Note that all histograms are already saved in the histogram folder)"
   ]
  },
  {
   "cell_type": "code",
   "execution_count": null,
   "metadata": {},
   "outputs": [],
   "source": [
    "from preprocessor import PreProcessor\n",
    "output_path = 'D:\\\\parsed_files'  # Output path where the statistics and parsed files will be saved\n",
    "\n",
    "prep = PreProcessor(corpus_path, output_path)\n",
    "prep.process_all_files()\n",
    "prep.load_statistics(os.join(output_path, 'statistics'))\n",
    "prep.print_statistics()"
   ]
  },
  {
   "cell_type": "markdown",
   "metadata": {},
   "source": [
    "# Task Challenges:\n",
    "## There are several difficulties we can detect with the analysis output:\n",
    "1. Some categories have much more documents than other ones, meaning that there is less data and features to extract in order to differentiate one type of document from another.\n",
    "2. For all categories, the top words is \"patient\", usually followed by \"infect\" or \"cell\" or \"group\". This means that those word don't help much with the classification despite appearing abundantly.\n",
    "3. As you can see in the histograms, the vast majority of words appear once or twice. This means they won't help with the classification since they aren't words that appear numerous times in a certain category, they just happened to pop up once or twice. "
   ]
  },
  {
   "cell_type": "markdown",
   "metadata": {},
   "source": [
    "## Part 2:\n",
    "This part continue the main function of the last part. We are using the same paths we defined in the last section. As you can see we are giving the Classifier class the path of our output of the previous part. As you will see we are using two types of features extraction - tf-idf and bigram, and two types of classifiers - SGDClassifier and Perceptron."
   ]
  },
  {
   "cell_type": "code",
   "execution_count": null,
   "metadata": {},
   "outputs": [],
   "source": [
    "from Classifier import Classifier\n",
    "classifier = Classifier(corpus_path=output_path)"
   ]
  },
  {
   "cell_type": "markdown",
   "metadata": {},
   "source": [
    "### The train_model function will calculate the accuracy of each model (feature extraction and classifier) on the training set + test set at the default parameters"
   ]
  },
  {
   "cell_type": "code",
   "execution_count": null,
   "metadata": {},
   "outputs": [],
   "source": [
    "classifier.train_model()"
   ]
  },
  {
   "cell_type": "markdown",
   "metadata": {},
   "source": [
    "#### The train_optimise will check the optimise of two parametes of the classifiers: alpha - 0.001 or 0.0001, and penalty - None, l1, l2, and elasticent. and calculate the accuracy on the training set. After that we choose the best model and run it on the test set. As you can see the optimisation improve the results"
   ]
  },
  {
   "cell_type": "code",
   "execution_count": null,
   "metadata": {},
   "outputs": [],
   "source": [
    "classifier.train_optimise()"
   ]
  },
  {
   "cell_type": "markdown",
   "metadata": {},
   "source": [
    "# Task Challenges:\n",
    "## There are several difficulties we can detect with the analysis output:\n",
    "1. The most challenging part of this part was to try and identify the parameters we are going to optimise. First of all each classifier and featrure eaxtractor has different parametes and each one has different impact on the results.\n",
    "2. Each run of the optimisation taking time. If we tried to optimise parameters with continuous range the optimisation took a lot of time.\n",
    "3. We also checked different classifiers and feature extractions (like Hashing feature extraction and Naive Base classifier), and there is more we didn't check. The more types of classifiers and feature extraction we check the complex of the code got bigger and more time consuming. Also some of the other model didn't have the same parameters as the one we chose."
   ]
  }
 ],
 "metadata": {
  "kernelspec": {
   "display_name": "Python 3",
   "language": "python",
   "name": "python3"
  },
  "language_info": {
   "codemirror_mode": {
    "name": "ipython",
    "version": 3
   },
   "file_extension": ".py",
   "mimetype": "text/x-python",
   "name": "python",
   "nbconvert_exporter": "python",
   "pygments_lexer": "ipython3",
   "version": "3.7.0"
  }
 },
 "nbformat": 4,
 "nbformat_minor": 2
}
